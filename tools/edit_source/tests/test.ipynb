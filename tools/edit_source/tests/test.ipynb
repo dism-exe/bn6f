{
 "cells": [
  {
   "cell_type": "code",
   "execution_count": 71,
   "metadata": {},
   "outputs": [
    {
     "name": "stdout",
     "output_type": "stream",
     "text": [
      "INIT function <function mapp at 0x7f63e68500e0>\n",
      "INIT function <function to_list at 0x7f63e68537e0>\n"
     ]
    }
   ],
   "source": [
    "import builtins\n",
    "import functools\n",
    "from typing import Callable, Generic, Iterable, ParamSpec, TypeVar\n",
    "\n",
    "T = TypeVar('T')\n",
    "U = TypeVar('U')\n",
    "V = TypeVar('V')\n",
    "W = TypeVar('W')\n",
    "P = ParamSpec('P')\n",
    "P2 = ParamSpec('P2')\n",
    "E = TypeVar('E')\n",
    "\n",
    "class Pipe(Generic[P, T]):\n",
    "    \"\"\"\n",
    "    Inspired by the pipe library by Julien Palard <julien@python.org>\n",
    "    Reimplements it to allow for type checks with mypy.\n",
    "\n",
    "    This basically allows functions to be decorated to be pipable, where the first argument is\n",
    "    taken from the left of the pipe.\n",
    "\n",
    "    Instead of `transform(source, arg)` we can do `source | transform(arg)` while implementing\n",
    "    transform as taking source as a first argument.\n",
    "    \"\"\"\n",
    "\n",
    "    def __init__(self, func: Callable[P, T]):\n",
    "        \"\"\"\n",
    "        Called when the decorator is applied to a function to turn it into a Pipe.\n",
    "        Also called when the decorated function is used as a Pipe via __call__\n",
    "\n",
    "        __call__ supplies `self.func` with the arguments given to the decorated func.\n",
    "        \"\"\"\n",
    "        print('INIT', 'function', func)\n",
    "        self.func = func\n",
    "\n",
    "        functools.update_wrapper(self, func)\n",
    "\n",
    "    def __ror__(self, other):\n",
    "        \"\"\"\n",
    "        Called when the pipe operation is used with this type to its right: `other | this`.\n",
    "        \n",
    "        Here we do the unwrapping of the lambdas. The final Pipe lambda has no *args or *kwargs but\n",
    "        passes them from __call__'s args and kwargs to a wrapper function of itself. When applying\n",
    "        the other, it will feed the other and the other args/kwargs that were passed to the \n",
    "        decorated function via __call__\n",
    "        \"\"\"\n",
    "        print('ROR', 'other', other)\n",
    "        return self.func(other)\n",
    "\n",
    "    def __call__(self, *args: P.args, **kwargs: P.kwargs) -> 'Pipe':\n",
    "        \"\"\"\n",
    "        Called when the decorated function is used. \n",
    "        \"\"\"\n",
    "        print('CALL', 'args', args, 'kwargs', kwargs)\n",
    "        return Pipe(\n",
    "            lambda iterable, *args2, **kwargs2: \n",
    "                self.func(iterable, *args, *args2, **kwargs, **kwargs2)\n",
    "        )\n",
    "\n",
    "@Pipe\n",
    "def mapp(iter: Iterable[T], callback: Callable[[T], U]):\n",
    "    return builtins.map(callback, iter)\n",
    "\n",
    "@Pipe\n",
    "def to_list(iter: Iterable[T]):\n",
    "    return list(iter)"
   ]
  },
  {
   "cell_type": "code",
   "execution_count": 72,
   "metadata": {},
   "outputs": [
    {
     "name": "stdout",
     "output_type": "stream",
     "text": [
      "CALL args (<function <lambda> at 0x7f63e6853b00>,) kwargs {}\n",
      "INIT function <function Pipe.__call__.<locals>.<lambda> at 0x7f63e6853e20>\n",
      "ROR other [1, 2, 3]\n",
      "ROR other <map object at 0x7f63e6dc7e20>\n"
     ]
    },
    {
     "data": {
      "text/plain": [
       "[3, 6, 9]"
      ]
     },
     "execution_count": 72,
     "metadata": {},
     "output_type": "execute_result"
    }
   ],
   "source": [
    "[1,2,3] | mapp(lambda n: n*3) | to_list"
   ]
  }
 ],
 "metadata": {
  "kernelspec": {
   "display_name": "base",
   "language": "python",
   "name": "python3"
  },
  "language_info": {
   "codemirror_mode": {
    "name": "ipython",
    "version": 3
   },
   "file_extension": ".py",
   "mimetype": "text/x-python",
   "name": "python",
   "nbconvert_exporter": "python",
   "pygments_lexer": "ipython3",
   "version": "3.12.2"
  }
 },
 "nbformat": 4,
 "nbformat_minor": 2
}
